{
 "cells": [
  {
   "cell_type": "code",
   "execution_count": 30,
   "metadata": {},
   "outputs": [],
   "source": [
    "import numpy as np"
   ]
  },
  {
   "cell_type": "code",
   "execution_count": 31,
   "metadata": {},
   "outputs": [],
   "source": [
    "def anchor_generator(ratios=[0.5,1,2],anchor_scales=[8,16,32],base_size=16):\n",
    "    h,w = _ratio_enum(base_size, ratios)\n",
    "    x_ctr = (base_size-1)/2\n",
    "    y_ctr = (base_size-1)/2\n",
    "    anchor_base = np.zeros((len(ratios)*len(anchor_scales),4),dtype = np.float32)\n",
    "    for i,scale in enumerate(anchor_scales):\n",
    "        for j in range(3):\n",
    "            index = i*len(anchor_scales) +j\n",
    "            anchor_base[index,0] = y_ctr - (h[j]*scale-1)/2\n",
    "            anchor_base[index,1] = x_ctr - (w[j]*scale-1)/2\n",
    "            anchor_base[index,2] = y_ctr + (h[j]*scale-1)/2\n",
    "            anchor_base[index,3] = x_ctr + (w[j]*scale-1)/2\n",
    "    return anchor_base\n",
    "             \n",
    "\n",
    "\n",
    "\n",
    "def _ratio_enum(base_size,ratios):\n",
    "    h = base_size*np.sqrt(ratios)\n",
    "    w = base_size*np.sqrt(1/np.array(ratios))\n",
    "    return h,w\n",
    "\n"
   ]
  },
  {
   "cell_type": "code",
   "execution_count": 32,
   "metadata": {},
   "outputs": [],
   "source": [
    "base_anchor = anchor_generator()"
   ]
  },
  {
   "cell_type": "code",
   "execution_count": 33,
   "metadata": {},
   "outputs": [
    {
     "data": {
      "text/plain": [
       "array([[ -37.254833,  -82.50967 ,   52.254833,   97.50967 ],\n",
       "       [ -56.      ,  -56.      ,   71.      ,   71.      ],\n",
       "       [ -82.50967 ,  -37.254833,   97.50967 ,   52.254833],\n",
       "       [ -82.50967 , -173.01933 ,   97.50967 ,  188.01933 ],\n",
       "       [-120.      , -120.      ,  135.      ,  135.      ],\n",
       "       [-173.01933 ,  -82.50967 ,  188.01933 ,   97.50967 ],\n",
       "       [-173.01933 , -354.03867 ,  188.01933 ,  369.03867 ],\n",
       "       [-248.      , -248.      ,  263.      ,  263.      ],\n",
       "       [-354.03867 , -173.01933 ,  369.03867 ,  188.01933 ]],\n",
       "      dtype=float32)"
      ]
     },
     "execution_count": 33,
     "metadata": {},
     "output_type": "execute_result"
    }
   ],
   "source": [
    "base_anchor"
   ]
  },
  {
   "cell_type": "raw",
   "metadata": {},
   "source": [
    "ratios=np.array([0.5,1,2])\n",
    "anchor_scales=np.array([8,16,32])"
   ]
  },
  {
   "cell_type": "code",
   "execution_count": 55,
   "metadata": {},
   "outputs": [],
   "source": [
    "anchor_scales=np.expand_dims(anchor_scales,axis=(0,2))"
   ]
  },
  {
   "cell_type": "code",
   "execution_count": 56,
   "metadata": {},
   "outputs": [
    {
     "data": {
      "text/plain": [
       "(1, 3, 1)"
      ]
     },
     "execution_count": 56,
     "metadata": {},
     "output_type": "execute_result"
    }
   ],
   "source": [
    "anchor_scales.shape"
   ]
  },
  {
   "cell_type": "code",
   "execution_count": 57,
   "metadata": {},
   "outputs": [
    {
     "data": {
      "text/plain": [
       "array([[[ 4.,  8., 16.],\n",
       "        [ 8., 16., 32.],\n",
       "        [16., 32., 64.]]])"
      ]
     },
     "execution_count": 57,
     "metadata": {},
     "output_type": "execute_result"
    }
   ],
   "source": [
    "anchor_scales*ratios"
   ]
  },
  {
   "cell_type": "code",
   "execution_count": 6,
   "metadata": {},
   "outputs": [],
   "source": [
    "a = np.arange(0,16*2,16)\n",
    "b = np.arange(0,16*2,16)"
   ]
  },
  {
   "cell_type": "code",
   "execution_count": 8,
   "metadata": {},
   "outputs": [],
   "source": [
    "shift_x, shift_y = np.meshgrid(a,b)\n"
   ]
  },
  {
   "cell_type": "code",
   "execution_count": 14,
   "metadata": {},
   "outputs": [
    {
     "data": {
      "text/plain": [
       "array([ 0,  0, 16, 16])"
      ]
     },
     "execution_count": 14,
     "metadata": {},
     "output_type": "execute_result"
    }
   ],
   "source": [
    "shift_y.ravel()"
   ]
  },
  {
   "cell_type": "code",
   "execution_count": 21,
   "metadata": {},
   "outputs": [],
   "source": [
    "shift = np.stack((shift_y.ravel(), shift_x.ravel(),\n",
    "                      shift_y.ravel(), shift_x.ravel()), axis=1)"
   ]
  },
  {
   "cell_type": "code",
   "execution_count": 29,
   "metadata": {},
   "outputs": [
    {
     "data": {
      "text/plain": [
       "array([[ -37.254833,  -82.50967 ,   52.254833,   97.50967 ],\n",
       "       [ -56.      ,  -56.      ,   71.      ,   71.      ],\n",
       "       [ -82.50967 ,  -37.254833,   97.50967 ,   52.254833],\n",
       "       [ -82.50967 , -173.01933 ,   97.50967 ,  188.01933 ],\n",
       "       [-120.      , -120.      ,  135.      ,  135.      ],\n",
       "       [-173.01933 ,  -82.50967 ,  188.01933 ,   97.50967 ],\n",
       "       [-173.01933 , -354.03867 ,  188.01933 ,  369.03867 ],\n",
       "       [-248.      , -248.      ,  263.      ,  263.      ],\n",
       "       [-354.03867 , -173.01933 ,  369.03867 ,  188.01933 ]],\n",
       "      dtype=float32)"
      ]
     },
     "execution_count": 29,
     "metadata": {},
     "output_type": "execute_result"
    }
   ],
   "source": [
    "base_anchor"
   ]
  },
  {
   "cell_type": "code",
   "execution_count": 28,
   "metadata": {},
   "outputs": [
    {
     "data": {
      "text/plain": [
       "array([[[ -37.25483322,  -82.50966644,   52.25483322,   97.50966644],\n",
       "        [ -56.        ,  -56.        ,   71.        ,   71.        ],\n",
       "        [ -82.50966644,  -37.25483322,   97.50966644,   52.25483322],\n",
       "        [ -82.50966644, -173.01933289,   97.50966644,  188.01933289],\n",
       "        [-120.        , -120.        ,  135.        ,  135.        ],\n",
       "        [-173.01933289,  -82.50966644,  188.01933289,   97.50966644],\n",
       "        [-173.01933289, -354.03866577,  188.01933289,  369.03866577],\n",
       "        [-248.        , -248.        ,  263.        ,  263.        ],\n",
       "        [-354.03866577, -173.01933289,  369.03866577,  188.01933289]],\n",
       "\n",
       "       [[ -37.25483322,  -66.50966644,   52.25483322,  113.50966644],\n",
       "        [ -56.        ,  -40.        ,   71.        ,   87.        ],\n",
       "        [ -82.50966644,  -21.25483322,   97.50966644,   68.25483322],\n",
       "        [ -82.50966644, -157.01933289,   97.50966644,  204.01933289],\n",
       "        [-120.        , -104.        ,  135.        ,  151.        ],\n",
       "        [-173.01933289,  -66.50966644,  188.01933289,  113.50966644],\n",
       "        [-173.01933289, -338.03866577,  188.01933289,  385.03866577],\n",
       "        [-248.        , -232.        ,  263.        ,  279.        ],\n",
       "        [-354.03866577, -157.01933289,  369.03866577,  204.01933289]],\n",
       "\n",
       "       [[ -21.25483322,  -82.50966644,   68.25483322,   97.50966644],\n",
       "        [ -40.        ,  -56.        ,   87.        ,   71.        ],\n",
       "        [ -66.50966644,  -37.25483322,  113.50966644,   52.25483322],\n",
       "        [ -66.50966644, -173.01933289,  113.50966644,  188.01933289],\n",
       "        [-104.        , -120.        ,  151.        ,  135.        ],\n",
       "        [-157.01933289,  -82.50966644,  204.01933289,   97.50966644],\n",
       "        [-157.01933289, -354.03866577,  204.01933289,  369.03866577],\n",
       "        [-232.        , -248.        ,  279.        ,  263.        ],\n",
       "        [-338.03866577, -173.01933289,  385.03866577,  188.01933289]],\n",
       "\n",
       "       [[ -21.25483322,  -66.50966644,   68.25483322,  113.50966644],\n",
       "        [ -40.        ,  -40.        ,   87.        ,   87.        ],\n",
       "        [ -66.50966644,  -21.25483322,  113.50966644,   68.25483322],\n",
       "        [ -66.50966644, -157.01933289,  113.50966644,  204.01933289],\n",
       "        [-104.        , -104.        ,  151.        ,  151.        ],\n",
       "        [-157.01933289,  -66.50966644,  204.01933289,  113.50966644],\n",
       "        [-157.01933289, -338.03866577,  204.01933289,  385.03866577],\n",
       "        [-232.        , -232.        ,  279.        ,  279.        ],\n",
       "        [-338.03866577, -157.01933289,  385.03866577,  204.01933289]]])"
      ]
     },
     "execution_count": 28,
     "metadata": {},
     "output_type": "execute_result"
    }
   ],
   "source": [
    "base_anchor.reshape(1,9,4)+shift.reshape(4,1,4)"
   ]
  },
  {
   "cell_type": "code",
   "execution_count": null,
   "metadata": {},
   "outputs": [],
   "source": []
  }
 ],
 "metadata": {
  "kernelspec": {
   "display_name": "Python 3",
   "language": "python",
   "name": "python3"
  },
  "language_info": {
   "codemirror_mode": {
    "name": "ipython",
    "version": 3
   },
   "file_extension": ".py",
   "mimetype": "text/x-python",
   "name": "python",
   "nbconvert_exporter": "python",
   "pygments_lexer": "ipython3",
   "version": "3.7.6"
  }
 },
 "nbformat": 4,
 "nbformat_minor": 4
}
