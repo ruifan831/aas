{
 "cells": [
  {
   "cell_type": "code",
   "execution_count": 1,
   "metadata": {},
   "outputs": [],
   "source": [
    "import numpy as np"
   ]
  },
  {
   "cell_type": "code",
   "execution_count": 37,
   "metadata": {},
   "outputs": [],
   "source": [
    "def anchor_generator(ratios=[0.5,1,2],anchor_scales=[8,16,32],base_size=16):\n",
    "    h,w = _ratio_enum(base_size, ratios)\n",
    "    x_ctr = (base_size-1)/2\n",
    "    y_ctr = (base_size-1)/2\n",
    "    anchor_base = np.zeros((len(ratios)*len(anchor_scales),4),dtype = np.float32)\n",
    "    for i,scale in enumerate(anchor_scales):\n",
    "        for j in range(3):\n",
    "            index = i*len(anchor_scales) +j\n",
    "            anchor_base[index,0] = y_ctr - (h[j]*scale-1)/2\n",
    "            anchor_base[index,1] = x_ctr - (w[j]*scale-1)/2\n",
    "            anchor_base[index,2] = y_ctr + (h[j]*scale-1)/2\n",
    "            anchor_base[index,3] = x_ctr + (w[j]*scale-1)/2\n",
    "    return anchor_base\n",
    "             \n",
    "\n",
    "\n",
    "\n",
    "def _ratio_enum(base_size,ratios):\n",
    "    h = base_size*np.sqrt(ratios)\n",
    "    w = base_size*np.sqrt(1/np.array(ratio))\n",
    "    return h,w\n",
    "\n"
   ]
  },
  {
   "cell_type": "code",
   "execution_count": 38,
   "metadata": {},
   "outputs": [
    {
     "data": {
      "text/plain": [
       "array([[ -37.254833,  -82.50967 ,   52.254833,   97.50967 ],\n",
       "       [ -56.      ,  -56.      ,   71.      ,   71.      ],\n",
       "       [ -82.50967 ,  -37.254833,   97.50967 ,   52.254833],\n",
       "       [ -82.50967 , -173.01933 ,   97.50967 ,  188.01933 ],\n",
       "       [-120.      , -120.      ,  135.      ,  135.      ],\n",
       "       [-173.01933 ,  -82.50967 ,  188.01933 ,   97.50967 ],\n",
       "       [-173.01933 , -354.03867 ,  188.01933 ,  369.03867 ],\n",
       "       [-248.      , -248.      ,  263.      ,  263.      ],\n",
       "       [-354.03867 , -173.01933 ,  369.03867 ,  188.01933 ]],\n",
       "      dtype=float32)"
      ]
     },
     "execution_count": 38,
     "metadata": {},
     "output_type": "execute_result"
    }
   ],
   "source": [
    "anchor_generator()"
   ]
  },
  {
   "cell_type": "code",
   "execution_count": 54,
   "metadata": {},
   "outputs": [],
   "source": [
    "ratios=np.array([0.5,1,2])\n",
    "anchor_scales=np.array([8,16,32])"
   ]
  },
  {
   "cell_type": "code",
   "execution_count": 55,
   "metadata": {},
   "outputs": [],
   "source": [
    "anchor_scales=np.expand_dims(anchor_scales,axis=(0,2))"
   ]
  },
  {
   "cell_type": "code",
   "execution_count": 56,
   "metadata": {},
   "outputs": [
    {
     "data": {
      "text/plain": [
       "(1, 3, 1)"
      ]
     },
     "execution_count": 56,
     "metadata": {},
     "output_type": "execute_result"
    }
   ],
   "source": [
    "anchor_scales.shape"
   ]
  },
  {
   "cell_type": "code",
   "execution_count": 57,
   "metadata": {},
   "outputs": [
    {
     "data": {
      "text/plain": [
       "array([[[ 4.,  8., 16.],\n",
       "        [ 8., 16., 32.],\n",
       "        [16., 32., 64.]]])"
      ]
     },
     "execution_count": 57,
     "metadata": {},
     "output_type": "execute_result"
    }
   ],
   "source": [
    "anchor_scales*ratios"
   ]
  },
  {
   "cell_type": "code",
   "execution_count": null,
   "metadata": {},
   "outputs": [],
   "source": []
  }
 ],
 "metadata": {
  "kernelspec": {
   "display_name": "Python 3",
   "language": "python",
   "name": "python3"
  },
  "language_info": {
   "codemirror_mode": {
    "name": "ipython",
    "version": 3
   },
   "file_extension": ".py",
   "mimetype": "text/x-python",
   "name": "python",
   "nbconvert_exporter": "python",
   "pygments_lexer": "ipython3",
   "version": "3.8.5"
  }
 },
 "nbformat": 4,
 "nbformat_minor": 4
}
