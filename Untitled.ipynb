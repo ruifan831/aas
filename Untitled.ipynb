{
 "cells": [
  {
   "cell_type": "code",
   "execution_count": 9,
   "metadata": {},
   "outputs": [],
   "source": [
    "import numpy as np\n",
    "import os\n",
    "from PIL import Image\n",
    "import xml.etree.ElementTree as ET\n"
   ]
  },
  {
   "cell_type": "code",
   "execution_count": 7,
   "metadata": {},
   "outputs": [],
   "source": [
    "root = \"../VOCdevkit/VOC2007/\""
   ]
  },
  {
   "cell_type": "code",
   "execution_count": 11,
   "metadata": {},
   "outputs": [],
   "source": [
    "anno = ET.parse(os.path.join(root,\"Annotations\",\"000005.xml\"))"
   ]
  },
  {
   "cell_type": "code",
   "execution_count": 13,
   "metadata": {},
   "outputs": [],
   "source": [
    "objs = anno.findall(\"object\")"
   ]
  },
  {
   "cell_type": "code",
   "execution_count": 21,
   "metadata": {},
   "outputs": [
    {
     "data": {
      "text/plain": [
       "<Element 'xmin' at 0x7f9519b59f50>"
      ]
     },
     "execution_count": 21,
     "metadata": {},
     "output_type": "execute_result"
    }
   ],
   "source": [
    "objs[0].find(\"bndbox/xmin\")."
   ]
  },
  {
   "cell_type": "code",
   "execution_count": 3,
   "metadata": {},
   "outputs": [
    {
     "ename": "TypeError",
     "evalue": "join() argument must be str or bytes, not 'int'",
     "output_type": "error",
     "traceback": [
      "\u001b[0;31m---------------------------------------------------------------------------\u001b[0m",
      "\u001b[0;31mTypeError\u001b[0m                                 Traceback (most recent call last)",
      "\u001b[0;32m<ipython-input-3-ca2bd07503c3>\u001b[0m in \u001b[0;36m<module>\u001b[0;34m\u001b[0m\n\u001b[0;32m----> 1\u001b[0;31m \u001b[0mos\u001b[0m\u001b[0;34m.\u001b[0m\u001b[0mpath\u001b[0m\u001b[0;34m.\u001b[0m\u001b[0mjoin\u001b[0m\u001b[0;34m(\u001b[0m\u001b[0;34m\"a\"\u001b[0m\u001b[0;34m,\u001b[0m\u001b[0;34m\"b\"\u001b[0m\u001b[0;34m,\u001b[0m\u001b[0;36m2\u001b[0m\u001b[0;34m)\u001b[0m\u001b[0;34m\u001b[0m\u001b[0;34m\u001b[0m\u001b[0m\n\u001b[0m",
      "\u001b[0;32m~/opt/anaconda3/envs/cv/lib/python3.7/posixpath.py\u001b[0m in \u001b[0;36mjoin\u001b[0;34m(a, *p)\u001b[0m\n\u001b[1;32m     92\u001b[0m                 \u001b[0mpath\u001b[0m \u001b[0;34m+=\u001b[0m \u001b[0msep\u001b[0m \u001b[0;34m+\u001b[0m \u001b[0mb\u001b[0m\u001b[0;34m\u001b[0m\u001b[0;34m\u001b[0m\u001b[0m\n\u001b[1;32m     93\u001b[0m     \u001b[0;32mexcept\u001b[0m \u001b[0;34m(\u001b[0m\u001b[0mTypeError\u001b[0m\u001b[0;34m,\u001b[0m \u001b[0mAttributeError\u001b[0m\u001b[0;34m,\u001b[0m \u001b[0mBytesWarning\u001b[0m\u001b[0;34m)\u001b[0m\u001b[0;34m:\u001b[0m\u001b[0;34m\u001b[0m\u001b[0;34m\u001b[0m\u001b[0m\n\u001b[0;32m---> 94\u001b[0;31m         \u001b[0mgenericpath\u001b[0m\u001b[0;34m.\u001b[0m\u001b[0m_check_arg_types\u001b[0m\u001b[0;34m(\u001b[0m\u001b[0;34m'join'\u001b[0m\u001b[0;34m,\u001b[0m \u001b[0ma\u001b[0m\u001b[0;34m,\u001b[0m \u001b[0;34m*\u001b[0m\u001b[0mp\u001b[0m\u001b[0;34m)\u001b[0m\u001b[0;34m\u001b[0m\u001b[0;34m\u001b[0m\u001b[0m\n\u001b[0m\u001b[1;32m     95\u001b[0m         \u001b[0;32mraise\u001b[0m\u001b[0;34m\u001b[0m\u001b[0;34m\u001b[0m\u001b[0m\n\u001b[1;32m     96\u001b[0m     \u001b[0;32mreturn\u001b[0m \u001b[0mpath\u001b[0m\u001b[0;34m\u001b[0m\u001b[0;34m\u001b[0m\u001b[0m\n",
      "\u001b[0;32m~/opt/anaconda3/envs/cv/lib/python3.7/genericpath.py\u001b[0m in \u001b[0;36m_check_arg_types\u001b[0;34m(funcname, *args)\u001b[0m\n\u001b[1;32m    151\u001b[0m         \u001b[0;32melse\u001b[0m\u001b[0;34m:\u001b[0m\u001b[0;34m\u001b[0m\u001b[0;34m\u001b[0m\u001b[0m\n\u001b[1;32m    152\u001b[0m             raise TypeError('%s() argument must be str or bytes, not %r' %\n\u001b[0;32m--> 153\u001b[0;31m                             (funcname, s.__class__.__name__)) from None\n\u001b[0m\u001b[1;32m    154\u001b[0m     \u001b[0;32mif\u001b[0m \u001b[0mhasstr\u001b[0m \u001b[0;32mand\u001b[0m \u001b[0mhasbytes\u001b[0m\u001b[0;34m:\u001b[0m\u001b[0;34m\u001b[0m\u001b[0;34m\u001b[0m\u001b[0m\n\u001b[1;32m    155\u001b[0m         \u001b[0;32mraise\u001b[0m \u001b[0mTypeError\u001b[0m\u001b[0;34m(\u001b[0m\u001b[0;34m\"Can't mix strings and bytes in path components\"\u001b[0m\u001b[0;34m)\u001b[0m \u001b[0;32mfrom\u001b[0m \u001b[0;32mNone\u001b[0m\u001b[0;34m\u001b[0m\u001b[0;34m\u001b[0m\u001b[0m\n",
      "\u001b[0;31mTypeError\u001b[0m: join() argument must be str or bytes, not 'int'"
     ]
    }
   ],
   "source": [
    "os.path.join(\"a\",\"b\",2)"
   ]
  },
  {
   "cell_type": "code",
   "execution_count": 31,
   "metadata": {},
   "outputs": [],
   "source": [
    "def anchor_generator(ratios=[0.5,1,2],anchor_scales=[8,16,32],base_size=16):\n",
    "    h,w = _ratio_enum(base_size, ratios)\n",
    "    x_ctr = (base_size-1)/2\n",
    "    y_ctr = (base_size-1)/2\n",
    "    anchor_base = np.zeros((len(ratios)*len(anchor_scales),4),dtype = np.float32)\n",
    "    for i,scale in enumerate(anchor_scales):\n",
    "        for j in range(3):\n",
    "            index = i*len(anchor_scales) +j\n",
    "            anchor_base[index,0] = y_ctr - (h[j]*scale-1)/2\n",
    "            anchor_base[index,1] = x_ctr - (w[j]*scale-1)/2\n",
    "            anchor_base[index,2] = y_ctr + (h[j]*scale-1)/2\n",
    "            anchor_base[index,3] = x_ctr + (w[j]*scale-1)/2\n",
    "    return anchor_base\n",
    "             \n",
    "\n",
    "\n",
    "\n",
    "def _ratio_enum(base_size,ratios):\n",
    "    h = base_size*np.sqrt(ratios)\n",
    "    w = base_size*np.sqrt(1/np.array(ratios))\n",
    "    return h,w\n",
    "\n"
   ]
  },
  {
   "cell_type": "code",
   "execution_count": 32,
   "metadata": {},
   "outputs": [],
   "source": [
    "base_anchor = anchor_generator()"
   ]
  },
  {
   "cell_type": "code",
   "execution_count": 33,
   "metadata": {},
   "outputs": [
    {
     "data": {
      "text/plain": [
       "array([[ -37.254833,  -82.50967 ,   52.254833,   97.50967 ],\n",
       "       [ -56.      ,  -56.      ,   71.      ,   71.      ],\n",
       "       [ -82.50967 ,  -37.254833,   97.50967 ,   52.254833],\n",
       "       [ -82.50967 , -173.01933 ,   97.50967 ,  188.01933 ],\n",
       "       [-120.      , -120.      ,  135.      ,  135.      ],\n",
       "       [-173.01933 ,  -82.50967 ,  188.01933 ,   97.50967 ],\n",
       "       [-173.01933 , -354.03867 ,  188.01933 ,  369.03867 ],\n",
       "       [-248.      , -248.      ,  263.      ,  263.      ],\n",
       "       [-354.03867 , -173.01933 ,  369.03867 ,  188.01933 ]],\n",
       "      dtype=float32)"
      ]
     },
     "execution_count": 33,
     "metadata": {},
     "output_type": "execute_result"
    }
   ],
   "source": [
    "base_anchor"
   ]
  },
  {
   "cell_type": "raw",
   "metadata": {},
   "source": [
    "ratios=np.array([0.5,1,2])\n",
    "anchor_scales=np.array([8,16,32])"
   ]
  },
  {
   "cell_type": "code",
   "execution_count": 55,
   "metadata": {},
   "outputs": [],
   "source": [
    "anchor_scales=np.expand_dims(anchor_scales,axis=(0,2))"
   ]
  },
  {
   "cell_type": "code",
   "execution_count": 56,
   "metadata": {},
   "outputs": [
    {
     "data": {
      "text/plain": [
       "(1, 3, 1)"
      ]
     },
     "execution_count": 56,
     "metadata": {},
     "output_type": "execute_result"
    }
   ],
   "source": [
    "anchor_scales.shape"
   ]
  },
  {
   "cell_type": "code",
   "execution_count": 35,
   "metadata": {},
   "outputs": [],
   "source": [
    "import torch as t\n",
    "temp = t.rand((10,4))\n"
   ]
  },
  {
   "cell_type": "code",
   "execution_count": 41,
   "metadata": {},
   "outputs": [
    {
     "data": {
      "text/plain": [
       "tensor([ 0.1247,  0.3586,  0.1788,  0.9512,  0.3515,  0.0372, -0.5634,  0.0374,\n",
       "         0.5519,  0.0766])"
      ]
     },
     "execution_count": 41,
     "metadata": {},
     "output_type": "execute_result"
    }
   ],
   "source": [
    "temp[:,2]-temp[:,0]"
   ]
  },
  {
   "cell_type": "code",
   "execution_count": 47,
   "metadata": {},
   "outputs": [],
   "source": [
    "a=t.tensor([1,2,3,4,5,6,7,8,9,10])"
   ]
  },
  {
   "cell_type": "code",
   "execution_count": 64,
   "metadata": {},
   "outputs": [
    {
     "data": {
      "text/plain": [
       "tensor([10,  1,  3,  2])"
      ]
     },
     "execution_count": 64,
     "metadata": {},
     "output_type": "execute_result"
    }
   ],
   "source": [
    "a[t.tensor([9,0,2,1])]"
   ]
  },
  {
   "cell_type": "code",
   "execution_count": 54,
   "metadata": {},
   "outputs": [
    {
     "data": {
      "text/plain": [
       "tensor([[0.0242],\n",
       "        [0.0832],\n",
       "        [2.1347],\n",
       "        [0.1083],\n",
       "        [1.7273],\n",
       "        [3.6611],\n",
       "        [6.4466],\n",
       "        [0.3790],\n",
       "        [3.9133],\n",
       "        [1.9327]])"
      ]
     },
     "execution_count": 54,
     "metadata": {},
     "output_type": "execute_result"
    }
   ],
   "source": [
    "temp[:,0::4]*a.view(-1,1)\n"
   ]
  },
  {
   "cell_type": "code",
   "execution_count": null,
   "metadata": {},
   "outputs": [],
   "source": [
    "a.cuda"
   ]
  },
  {
   "cell_type": "code",
   "execution_count": 61,
   "metadata": {},
   "outputs": [
    {
     "data": {
      "text/plain": [
       "tensor([ 0, 12,  4, 28, 19, 30,  2, 36,  3, 33, 31, 38, 39, 21,  5, 16, 26, 35,\n",
       "         6, 13, 25, 32, 37, 29, 11, 20, 22, 18,  8,  7, 15, 10, 27,  1, 24,  9,\n",
       "        17, 14, 34, 23])"
      ]
     },
     "execution_count": 61,
     "metadata": {},
     "output_type": "execute_result"
    }
   ],
   "source": [
    "temp.reshape(-1).argsort()"
   ]
  },
  {
   "cell_type": "code",
   "execution_count": 57,
   "metadata": {},
   "outputs": [
    {
     "data": {
      "text/plain": [
       "array([[[ 4.,  8., 16.],\n",
       "        [ 8., 16., 32.],\n",
       "        [16., 32., 64.]]])"
      ]
     },
     "execution_count": 57,
     "metadata": {},
     "output_type": "execute_result"
    }
   ],
   "source": [
    "anchor_scales*ratios"
   ]
  },
  {
   "cell_type": "code",
   "execution_count": 6,
   "metadata": {},
   "outputs": [],
   "source": [
    "a = np.arange(0,16*2,16)\n",
    "b = np.arange(0,16*2,16)"
   ]
  },
  {
   "cell_type": "code",
   "execution_count": 8,
   "metadata": {},
   "outputs": [],
   "source": [
    "shift_x, shift_y = np.meshgrid(a,b)\n"
   ]
  },
  {
   "cell_type": "code",
   "execution_count": 14,
   "metadata": {},
   "outputs": [
    {
     "data": {
      "text/plain": [
       "array([ 0,  0, 16, 16])"
      ]
     },
     "execution_count": 14,
     "metadata": {},
     "output_type": "execute_result"
    }
   ],
   "source": [
    "shift_y.ravel()"
   ]
  },
  {
   "cell_type": "code",
   "execution_count": 21,
   "metadata": {},
   "outputs": [],
   "source": [
    "shift = np.stack((shift_y.ravel(), shift_x.ravel(),\n",
    "                      shift_y.ravel(), shift_x.ravel()), axis=1)"
   ]
  },
  {
   "cell_type": "code",
   "execution_count": 29,
   "metadata": {},
   "outputs": [
    {
     "data": {
      "text/plain": [
       "array([[ -37.254833,  -82.50967 ,   52.254833,   97.50967 ],\n",
       "       [ -56.      ,  -56.      ,   71.      ,   71.      ],\n",
       "       [ -82.50967 ,  -37.254833,   97.50967 ,   52.254833],\n",
       "       [ -82.50967 , -173.01933 ,   97.50967 ,  188.01933 ],\n",
       "       [-120.      , -120.      ,  135.      ,  135.      ],\n",
       "       [-173.01933 ,  -82.50967 ,  188.01933 ,   97.50967 ],\n",
       "       [-173.01933 , -354.03867 ,  188.01933 ,  369.03867 ],\n",
       "       [-248.      , -248.      ,  263.      ,  263.      ],\n",
       "       [-354.03867 , -173.01933 ,  369.03867 ,  188.01933 ]],\n",
       "      dtype=float32)"
      ]
     },
     "execution_count": 29,
     "metadata": {},
     "output_type": "execute_result"
    }
   ],
   "source": [
    "base_anchor"
   ]
  },
  {
   "cell_type": "code",
   "execution_count": 28,
   "metadata": {},
   "outputs": [
    {
     "data": {
      "text/plain": [
       "array([[[ -37.25483322,  -82.50966644,   52.25483322,   97.50966644],\n",
       "        [ -56.        ,  -56.        ,   71.        ,   71.        ],\n",
       "        [ -82.50966644,  -37.25483322,   97.50966644,   52.25483322],\n",
       "        [ -82.50966644, -173.01933289,   97.50966644,  188.01933289],\n",
       "        [-120.        , -120.        ,  135.        ,  135.        ],\n",
       "        [-173.01933289,  -82.50966644,  188.01933289,   97.50966644],\n",
       "        [-173.01933289, -354.03866577,  188.01933289,  369.03866577],\n",
       "        [-248.        , -248.        ,  263.        ,  263.        ],\n",
       "        [-354.03866577, -173.01933289,  369.03866577,  188.01933289]],\n",
       "\n",
       "       [[ -37.25483322,  -66.50966644,   52.25483322,  113.50966644],\n",
       "        [ -56.        ,  -40.        ,   71.        ,   87.        ],\n",
       "        [ -82.50966644,  -21.25483322,   97.50966644,   68.25483322],\n",
       "        [ -82.50966644, -157.01933289,   97.50966644,  204.01933289],\n",
       "        [-120.        , -104.        ,  135.        ,  151.        ],\n",
       "        [-173.01933289,  -66.50966644,  188.01933289,  113.50966644],\n",
       "        [-173.01933289, -338.03866577,  188.01933289,  385.03866577],\n",
       "        [-248.        , -232.        ,  263.        ,  279.        ],\n",
       "        [-354.03866577, -157.01933289,  369.03866577,  204.01933289]],\n",
       "\n",
       "       [[ -21.25483322,  -82.50966644,   68.25483322,   97.50966644],\n",
       "        [ -40.        ,  -56.        ,   87.        ,   71.        ],\n",
       "        [ -66.50966644,  -37.25483322,  113.50966644,   52.25483322],\n",
       "        [ -66.50966644, -173.01933289,  113.50966644,  188.01933289],\n",
       "        [-104.        , -120.        ,  151.        ,  135.        ],\n",
       "        [-157.01933289,  -82.50966644,  204.01933289,   97.50966644],\n",
       "        [-157.01933289, -354.03866577,  204.01933289,  369.03866577],\n",
       "        [-232.        , -248.        ,  279.        ,  263.        ],\n",
       "        [-338.03866577, -173.01933289,  385.03866577,  188.01933289]],\n",
       "\n",
       "       [[ -21.25483322,  -66.50966644,   68.25483322,  113.50966644],\n",
       "        [ -40.        ,  -40.        ,   87.        ,   87.        ],\n",
       "        [ -66.50966644,  -21.25483322,  113.50966644,   68.25483322],\n",
       "        [ -66.50966644, -157.01933289,  113.50966644,  204.01933289],\n",
       "        [-104.        , -104.        ,  151.        ,  151.        ],\n",
       "        [-157.01933289,  -66.50966644,  204.01933289,  113.50966644],\n",
       "        [-157.01933289, -338.03866577,  204.01933289,  385.03866577],\n",
       "        [-232.        , -232.        ,  279.        ,  279.        ],\n",
       "        [-338.03866577, -157.01933289,  385.03866577,  204.01933289]]])"
      ]
     },
     "execution_count": 28,
     "metadata": {},
     "output_type": "execute_result"
    }
   ],
   "source": [
    "base_anchor.reshape(1,9,4)+shift.reshape(4,1,4)"
   ]
  },
  {
   "cell_type": "code",
   "execution_count": null,
   "metadata": {},
   "outputs": [],
   "source": []
  }
 ],
 "metadata": {
  "kernelspec": {
   "display_name": "Python 3",
   "language": "python",
   "name": "python3"
  },
  "language_info": {
   "codemirror_mode": {
    "name": "ipython",
    "version": 3
   },
   "file_extension": ".py",
   "mimetype": "text/x-python",
   "name": "python",
   "nbconvert_exporter": "python",
   "pygments_lexer": "ipython3",
   "version": "3.7.10"
  }
 },
 "nbformat": 4,
 "nbformat_minor": 4
}
