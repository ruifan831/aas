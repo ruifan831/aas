{
 "cells": [
  {
   "cell_type": "code",
   "execution_count": 1,
   "metadata": {},
   "outputs": [],
   "source": [
    "from model import Backbone,RegionProposalNetwork,GeneralizedRCNN\n",
    "from data.dataset import VOCDataset\n",
    "from torch.utils.data import DataLoader\n",
    "from model.utils.anchor import AnchorGenerator\n",
    "\n",
    "root=\"/Users/ruifanxu/Desktop/Computer Vision/VOCdevkit/VOC2007/\"\n",
    "# root = \"/home/ruifanxu/Desktop/ComputerVision/Faster_RCNN/VOCdevkit/VOC2007/\"\n",
    "trainData = VOCDataset(root)\n",
    "loader = DataLoader(trainData,batch_size = 1)"
   ]
  },
  {
   "cell_type": "code",
   "execution_count": 2,
   "metadata": {},
   "outputs": [],
   "source": [
    "model = Backbone.vggbackbone(True)\n",
    "rpnhead= RegionProposalNetwork.RPNHead(512,9)\n",
    "anGen = AnchorGenerator()\n",
    "rpn = RegionProposalNetwork.RegionProposalNetwork(anGen,rpnhead,0.5,0.5,1,0.5,1000,1000,0.7)"
   ]
  },
  {
   "cell_type": "code",
   "execution_count": 3,
   "metadata": {},
   "outputs": [
    {
     "name": "stdout",
     "output_type": "stream",
     "text": [
      "torch.Size([1, 3, 375, 500])\n",
      "torch.Size([1, 512, 23, 31])\n",
      "torch.Size([713, 4])\n",
      "torch.Size([1, 6417, 4])\n",
      "score 6417\n",
      "True\n",
      "torch.Size([6417, 4])\n",
      "tensor([[  0.0000,   0.0000,  54.1983, 111.7470],\n",
      "        [  0.0000,   0.0000,  63.7674,  63.7060],\n",
      "        [  0.0000,   0.0000,  90.1927,  44.0997],\n",
      "        ...,\n",
      "        [169.5450, 107.1279, 375.0000, 500.0000],\n",
      "        [109.1740, 206.8997, 375.0000, 500.0000],\n",
      "        [  0.0000, 290.8401, 375.0000, 500.0000]], grad_fn=<CopySlices>)\n",
      "roi torch.Size([6417, 4])\n",
      "roi torch.Size([5146, 4])\n",
      "roi torch.Size([5146, 4])\n",
      "torch.Size([5146, 4])\n"
     ]
    }
   ],
   "source": [
    "for i,(img,target) in enumerate(loader):\n",
    "    print(img.shape)\n",
    "    temp = model(img)\n",
    "    print(temp.shape)\n",
    "    result=rpn(temp,img,1)\n",
    "    break"
   ]
  },
  {
   "cell_type": "code",
   "execution_count": null,
   "metadata": {},
   "outputs": [],
   "source": [
    "result[2]"
   ]
  },
  {
   "cell_type": "code",
   "execution_count": null,
   "metadata": {},
   "outputs": [],
   "source": [
    "import torch\n",
    "torch.stack([torch.tensor([1,2,3]),torch.tensor([1,2,3])])\n"
   ]
  },
  {
   "cell_type": "code",
   "execution_count": null,
   "metadata": {},
   "outputs": [],
   "source": [
    "img.shape[-2:]"
   ]
  },
  {
   "cell_type": "code",
   "execution_count": null,
   "metadata": {},
   "outputs": [],
   "source": [
    "model.backbone"
   ]
  },
  {
   "cell_type": "code",
   "execution_count": null,
   "metadata": {},
   "outputs": [],
   "source": [
    "list(zip([[1,31,31],[1,2,3,1]],[[1,2]]))"
   ]
  },
  {
   "cell_type": "code",
   "execution_count": null,
   "metadata": {},
   "outputs": [],
   "source": [
    "import torch\n"
   ]
  },
  {
   "cell_type": "code",
   "execution_count": null,
   "metadata": {},
   "outputs": [],
   "source": [
    "a = torch.tensor([[1,2],[2,3]])"
   ]
  },
  {
   "cell_type": "code",
   "execution_count": null,
   "metadata": {},
   "outputs": [],
   "source": [
    "b= torch.tensor([[1,1],[2,2],[3,3]])"
   ]
  },
  {
   "cell_type": "code",
   "execution_count": null,
   "metadata": {},
   "outputs": [],
   "source": [
    "a.view(-1,1,2)+b.view(1,-1,2)"
   ]
  },
  {
   "cell_type": "code",
   "execution_count": null,
   "metadata": {},
   "outputs": [],
   "source": [
    "temp1 = b.view(-1,1,2)+a.view(1,-1,2)\n",
    "temp2 = b.view(1,-1,2)+a.view(-1,1,2)"
   ]
  },
  {
   "cell_type": "code",
   "execution_count": null,
   "metadata": {},
   "outputs": [],
   "source": [
    "temp1"
   ]
  },
  {
   "cell_type": "code",
   "execution_count": null,
   "metadata": {},
   "outputs": [],
   "source": [
    "torch.equal(temp2.reshape(-1,2),temp1.reshape(-1,2))"
   ]
  },
  {
   "cell_type": "code",
   "execution_count": null,
   "metadata": {},
   "outputs": [],
   "source": [
    "temp2.reshape(-1,2)"
   ]
  },
  {
   "cell_type": "code",
   "execution_count": null,
   "metadata": {},
   "outputs": [],
   "source": []
  }
 ],
 "metadata": {
  "kernelspec": {
   "display_name": "Python 3",
   "language": "python",
   "name": "python3"
  },
  "language_info": {
   "codemirror_mode": {
    "name": "ipython",
    "version": 3
   },
   "file_extension": ".py",
   "mimetype": "text/x-python",
   "name": "python",
   "nbconvert_exporter": "python",
   "pygments_lexer": "ipython3",
   "version": "3.7.6"
  }
 },
 "nbformat": 4,
 "nbformat_minor": 2
}
