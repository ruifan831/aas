{
 "cells": [
  {
   "cell_type": "code",
   "execution_count": 1,
   "metadata": {},
   "outputs": [],
   "source": [
    "from model import Backbone,RegionProposalNetwork,GeneralizedRCNN,ROIHead\n",
    "from data.dataset import VOCDataset,Transform\n",
    "from torch.utils.data import DataLoader\n",
    "from model.utils.anchor import AnchorGenerator\n",
    "from model.utils.creator_tool import ProposalTargetCreator,AnchorTargetGenerator\n",
    "from torchvision import transforms\n",
    "import matplotlib\n",
    "import torch\n",
    "\n",
    "root=\"../VOCdevkit/VOC2007/\"\n",
    "# root = \"/home/ruifanxu/Desktop/ComputerVision/Faster_RCNN/VOCdevkit/VOC2007/\"\n",
    "trainData = VOCDataset(root,transform = Transform())\n",
    "loader = DataLoader(trainData,batch_size = 1)"
   ]
  },
  {
   "cell_type": "code",
   "execution_count": 2,
   "metadata": {},
   "outputs": [],
   "source": [
    "model,classifier = Backbone.vggbackbone(True)\n",
    "rpnhead= RegionProposalNetwork.RPNHead(512,9)\n",
    "head = ROIHead.RoIHead(21,classifier,7,1/16)\n",
    "anGen = AnchorGenerator()\n",
    "anTargetGen = AnchorTargetGenerator()\n",
    "proposalTarget = ProposalTargetCreator()\n",
    "rpn = RegionProposalNetwork.RegionProposalNetwork(anGen,rpnhead,0.5,0.5,1,0.5,1000,1000,0.7)"
   ]
  },
  {
   "cell_type": "code",
   "execution_count": 26,
   "metadata": {},
   "outputs": [],
   "source": [
    "import torch.nn.functional as F"
   ]
  },
  {
   "cell_type": "code",
   "execution_count": null,
   "metadata": {},
   "outputs": [],
   "source": []
  },
  {
   "cell_type": "code",
   "execution_count": 3,
   "metadata": {},
   "outputs": [
    {
     "name": "stdout",
     "output_type": "stream",
     "text": [
      "anchors torch.Size([1, 16650, 4])\n",
      "True\n",
      "torch.Size([16650, 4])\n",
      "torch.Size([1955, 4])\n",
      "torch.Size([1, 16650, 4])\n",
      "[ 1055  1064  1073 ... 16614 16615 16623]\n",
      "torch.Size([7191, 4])\n",
      "4\n",
      "pool shape torch.Size([128, 512, 7, 7])\n",
      "torch.Size([128, 25088])\n"
     ]
    },
    {
     "name": "stderr",
     "output_type": "stream",
     "text": [
      "/Users/ruifanxu/Desktop/Computer Vision/faster-rcnn/model/utils/creator_tool.py:38: RuntimeWarning: invalid value encountered in log\n",
      "  dw = np.log(bbox_width / width)\n"
     ]
    }
   ],
   "source": [
    "for i,(img,target) in enumerate(loader):\n",
    "    temp = model(img)\n",
    "    \n",
    "    # after Region Proposal Network, calculate the rpn loss\n",
    "    rpn_offset, rpn_score, rois,roi_indices,anchors=rpn(temp,img,1)\n",
    "    offset,label = anTargetGen(target[\"boxes\"][0],anchors[0],img[0].shape[-2:])\n",
    "    rpn_l1_loss = \n",
    "    rpn_cls_loss = F.cross_entropy(rpn_score.view(-1,2),torch.from_numpy(label).type(torch.LongTensor),ignore_index=-1)\n",
    "    # ROI head loss.\n",
    "    sample_roi, gt_roi_loc, gt_roi_label =proposalTarget(rois,target[\"boxes\"][0],target[\"labels\"][0])\n",
    "    sample_roi_index= torch.zeros(len(sample_roi))\n",
    "    roi_cls_locm,roi_score = head(temp,sample_roi,sample_roi_index)\n",
    "    break"
   ]
  },
  {
   "cell_type": "code",
   "execution_count": 40,
   "metadata": {},
   "outputs": [
    {
     "data": {
      "text/plain": [
       "(16650, 4)"
      ]
     },
     "execution_count": 40,
     "metadata": {},
     "output_type": "execute_result"
    }
   ],
   "source": [
    "offset.shape"
   ]
  },
  {
   "cell_type": "code",
   "execution_count": 53,
   "metadata": {},
   "outputs": [
    {
     "data": {
      "text/plain": [
       "tensor([[False, False, False, False],\n",
       "        [False, False, False, False],\n",
       "        [False, False, False, False],\n",
       "        ...,\n",
       "        [False, False, False, False],\n",
       "        [False, False, False, False],\n",
       "        [False, False, False, False]])"
      ]
     },
     "execution_count": 53,
     "metadata": {},
     "output_type": "execute_result"
    }
   ],
   "source": [
    "(torch.from_numpy(label)>0).view(-1,1).expand_as(temp).where()"
   ]
  },
  {
   "cell_type": "code",
   "execution_count": 52,
   "metadata": {},
   "outputs": [
    {
     "data": {
      "text/plain": [
       "torch.Size([16650, 4])"
      ]
     },
     "execution_count": 52,
     "metadata": {},
     "output_type": "execute_result"
    }
   ],
   "source": [
    "temp.shape"
   ]
  },
  {
   "cell_type": "code",
   "execution_count": 51,
   "metadata": {},
   "outputs": [
    {
     "data": {
      "text/plain": [
       "tensor([[0., 0., 0., 0.],\n",
       "        [0., 0., 0., 0.],\n",
       "        [0., 0., 0., 0.],\n",
       "        [0., 0., 0., 0.],\n",
       "        [0., 0., 0., 0.]])"
      ]
     },
     "execution_count": 51,
     "metadata": {},
     "output_type": "execute_result"
    }
   ],
   "source": [
    "temp = torch.zeros(offset.shape)\n",
    "temp[label>0]"
   ]
  },
  {
   "cell_type": "code",
   "execution_count": null,
   "metadata": {},
   "outputs": [],
   "source": []
  }
 ],
 "metadata": {
  "kernelspec": {
   "display_name": "Python 3",
   "language": "python",
   "name": "python3"
  },
  "language_info": {
   "codemirror_mode": {
    "name": "ipython",
    "version": 3
   },
   "file_extension": ".py",
   "mimetype": "text/x-python",
   "name": "python",
   "nbconvert_exporter": "python",
   "pygments_lexer": "ipython3",
   "version": "3.7.6"
  }
 },
 "nbformat": 4,
 "nbformat_minor": 2
}
