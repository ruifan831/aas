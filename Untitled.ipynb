{
 "cells": [
  {
   "cell_type": "code",
   "execution_count": 2,
   "metadata": {},
   "outputs": [],
   "source": [
    "import numpy as n\n",
    "import torch as t\n",
    "from torch import nn"
   ]
  },
  {
   "cell_type": "code",
   "execution_count": 57,
   "metadata": {},
   "outputs": [],
   "source": [
    "class AnchorGenerator(nn.Module):\n",
    "    def __init__(self,ratios=[[0.5,1,2]],anchor_scales=[[8,16,32]],base_size=16):\n",
    "        super().__init__()\n",
    "        self.ratios = ratios\n",
    "        self.anchor_scales= anchor_scales\n",
    "        self.base_size= base_size\n",
    "        self.cell_anchors =None\n",
    "    \n",
    "    def _ratio_enum(self,ratios):\n",
    "        h = self.base_size*t.sqrt(ratios)\n",
    "        w = self.base_size*t.sqrt(1/ratios)\n",
    "        return h,w\n",
    "    def num_anchors_per_location(self):\n",
    "        return [len(s) * len(a) for s, a in zip(self.sizes, self.aspect_ratios)]\n",
    "    \n",
    "    def generate_anchors(self,ratios,scales,dtype=t.float32,device=\"cpu\"):\n",
    "        ratios = t.as_tensor(ratios, dtype=dtype, device=device)\n",
    "        anchor_scales = t.as_tensor(scales, dtype=dtype, device=device)\n",
    "        h,w = self._ratio_enum(ratios)\n",
    "        hs = (anchor_scales.view(-1,1)*h.view(1,-1)).view(-1)\n",
    "        ws = (anchor_scales.view(-1,1)*w.view(1,-1)).view(-1)\n",
    "        base_anchor = t.stack((-hs,-ws,hs,ws),dim=1)/2\n",
    "        return base_anchor\n",
    "    \n",
    "    def set_cell_anchors(self,dtype,device):\n",
    "        if self.cell_anchors is not None:\n",
    "            cell_anchors = self.cell_anchors\n",
    "            assert cell_anchors is not None\n",
    "            if cell_anchors[0].device == device:\n",
    "                return\n",
    "        cell_anchors=[self.generate_anchors(ratios,scales,dtype,device) for ratios,scales in zip(self.ratios,self,anchor_scales)]\n",
    "        self.cell_anchors = cell_anchors\n",
    "    def forward(self,imgs,feature_maps):\n",
    "        # feature_map: (N,C,H,W)\n",
    "        grid_sizes=[feature_map.shape[-2:] for feature_map in feature_maps] # (N,2)\n",
    "        img_size = imgs.tensors.shape[-2:] # (N，2）\n",
    "        dtype,device = feature_maps[0].dtype,feature_maps[0].device\n",
    "        strides= [[t.tensor(img_size[0]//g[0],dtype=t.int64,device=device),\n",
    "                  t.tensor(img_size[1]//g[1],dtype=t.int64,device=device)] for g in grid_sizes]\n",
    "        self.set_cell_anchors(dtype,device)\n",
    "        anchors_over_feature_maps = self.grid_anchors(grid_sizes,strides)\n",
    "        return anchors_over_feature_maps\n",
    "    \n",
    "    def grid_anchors(self,grid_sizes,strides):\n",
    "        anchors = []\n",
    "        for size,stride in zip(grid_sizes,strides):\n",
    "            grid_height,grid_width = size\n",
    "            stride_height,stride_width = stride\n",
    "            device = self.cell_anchors.device\n",
    "            shifts_y = t.arange(0,grid_height,dtype=t.float32,device=device)*stride_height\n",
    "            shifts_x = t.arange(0,grid_width,dtype=t.float32,device=device)*stride_width\n",
    "            shift_x,shift_y = t.meshgrid(shifts_x,shifts_y)\n",
    "            shift_y = shift_y.reshape(-1)\n",
    "            shift_x = shift_x.reshape(-1)\n",
    "            shifts = t.stack((shift_y,shift_x,shift_y,shift_y),dim=1)\n",
    "            anchors.append((shifts.view(-1,1,4)+self.cell_anchors.view(1,-1,4)).reshape(-1,4))\n",
    "        # anchors: (N,number_of_grid *9,4)\n",
    "        return anchors\n",
    "\n",
    "\n"
   ]
  },
  {
   "cell_type": "code",
   "execution_count": 58,
   "metadata": {},
   "outputs": [],
   "source": [
    "rpn_anchor_generator = AnchorGenerator()"
   ]
  },
  {
   "cell_type": "code",
   "execution_count": 59,
   "metadata": {},
   "outputs": [
    {
     "data": {
      "text/plain": [
       "tensor([[ -45.2548,  -90.5097,   45.2548,   90.5097],\n",
       "        [ -64.0000,  -64.0000,   64.0000,   64.0000],\n",
       "        [ -90.5097,  -45.2548,   90.5097,   45.2548],\n",
       "        [ -90.5097, -181.0193,   90.5097,  181.0193],\n",
       "        [-128.0000, -128.0000,  128.0000,  128.0000],\n",
       "        [-181.0193,  -90.5097,  181.0193,   90.5097],\n",
       "        [-181.0193, -362.0387,  181.0193,  362.0387],\n",
       "        [-256.0000, -256.0000,  256.0000,  256.0000],\n",
       "        [-362.0387, -181.0193,  362.0387,  181.0193]])"
      ]
     },
     "execution_count": 59,
     "metadata": {},
     "output_type": "execute_result"
    }
   ],
   "source": [
    "rpn_anchor_generator.generate_anchors(ratios=[[0.5,1,2]],device=\"cpu\",dtype=t.float32,scales=[[8,16,32]])"
   ]
  },
  {
   "cell_type": "code",
   "execution_count": 36,
   "metadata": {},
   "outputs": [],
   "source": [
    "ratios=[[0.5,1,2]]\n",
    "anchor_scales=[[8,16,32]]"
   ]
  },
  {
   "cell_type": "code",
   "execution_count": 38,
   "metadata": {},
   "outputs": [
    {
     "data": {
      "text/plain": [
       "[([0.5, 1, 2], [8, 16, 32])]"
      ]
     },
     "execution_count": 38,
     "metadata": {},
     "output_type": "execute_result"
    }
   ],
   "source": [
    "list(zip(ratios,anchor_scales))"
   ]
  },
  {
   "cell_type": "code",
   "execution_count": 23,
   "metadata": {},
   "outputs": [],
   "source": [
    "anchor_scales=t.as_tensor([8,16,32]).view(-1,1)"
   ]
  },
  {
   "cell_type": "code",
   "execution_count": 27,
   "metadata": {},
   "outputs": [
    {
     "data": {
      "text/plain": [
       "tensor([11.3137, 16.0000, 22.6274])"
      ]
     },
     "execution_count": 27,
     "metadata": {},
     "output_type": "execute_result"
    }
   ],
   "source": [
    "h"
   ]
  },
  {
   "cell_type": "code",
   "execution_count": 26,
   "metadata": {},
   "outputs": [
    {
     "data": {
      "text/plain": [
       "tensor([[ 90.5097, 128.0000, 181.0193],\n",
       "        [181.0193, 256.0000, 362.0387],\n",
       "        [362.0387, 512.0000, 724.0773]])"
      ]
     },
     "execution_count": 26,
     "metadata": {},
     "output_type": "execute_result"
    }
   ],
   "source": [
    "h.view(1,-1)*anchor_scales"
   ]
  },
  {
   "cell_type": "code",
   "execution_count": 22,
   "metadata": {},
   "outputs": [
    {
     "data": {
      "text/plain": [
       "tensor([[-11.3137, -16.0000, -22.6274],\n",
       "        [-22.6274, -16.0000, -11.3137],\n",
       "        [ 11.3137,  16.0000,  22.6274],\n",
       "        [ 22.6274,  16.0000,  11.3137]])"
      ]
     },
     "execution_count": 22,
     "metadata": {},
     "output_type": "execute_result"
    }
   ],
   "source": [
    "t.stack((-h,-w,h,w))"
   ]
  },
  {
   "cell_type": "code",
   "execution_count": 31,
   "metadata": {},
   "outputs": [],
   "source": [
    "def anchor_generator(ratios=[0.5,1,2],anchor_scales=[8,16,32],base_size=16):\n",
    "    h,w = _ratio_enum(base_size, ratios)\n",
    "    x_ctr = (base_size-1)/2\n",
    "    y_ctr = (base_size-1)/2\n",
    "    anchor_base = np.zeros((len(ratios)*len(anchor_scales),4),dtype = np.float32)\n",
    "    for i,scale in enumerate(anchor_scales):\n",
    "        for j in range(3):\n",
    "            index = i*len(anchor_scales) +j\n",
    "            anchor_base[index,0] = y_ctr - (h[j]*scale-1)/2\n",
    "            anchor_base[index,1] = x_ctr - (w[j]*scale-1)/2\n",
    "            anchor_base[index,2] = y_ctr + (h[j]*scale-1)/2\n",
    "            anchor_base[index,3] = x_ctr + (w[j]*scale-1)/2\n",
    "    return anchor_base\n",
    "             \n",
    "\n",
    "\n",
    "\n",
    "def _ratio_enum(base_size,ratios):\n",
    "    h = base_size*np.sqrt(ratios)\n",
    "    w = base_size*np.sqrt(1/np.array(ratios))\n",
    "    return h,w\n",
    "\n"
   ]
  },
  {
   "cell_type": "code",
   "execution_count": 32,
   "metadata": {},
   "outputs": [],
   "source": [
    "base_anchor = anchor_generator()"
   ]
  },
  {
   "cell_type": "code",
   "execution_count": 33,
   "metadata": {},
   "outputs": [
    {
     "data": {
      "text/plain": [
       "array([[ -37.254833,  -82.50967 ,   52.254833,   97.50967 ],\n",
       "       [ -56.      ,  -56.      ,   71.      ,   71.      ],\n",
       "       [ -82.50967 ,  -37.254833,   97.50967 ,   52.254833],\n",
       "       [ -82.50967 , -173.01933 ,   97.50967 ,  188.01933 ],\n",
       "       [-120.      , -120.      ,  135.      ,  135.      ],\n",
       "       [-173.01933 ,  -82.50967 ,  188.01933 ,   97.50967 ],\n",
       "       [-173.01933 , -354.03867 ,  188.01933 ,  369.03867 ],\n",
       "       [-248.      , -248.      ,  263.      ,  263.      ],\n",
       "       [-354.03867 , -173.01933 ,  369.03867 ,  188.01933 ]],\n",
       "      dtype=float32)"
      ]
     },
     "execution_count": 33,
     "metadata": {},
     "output_type": "execute_result"
    }
   ],
   "source": [
    "base_anchor"
   ]
  },
  {
   "cell_type": "raw",
   "metadata": {},
   "source": [
    "ratios=np.array([0.5,1,2])\n",
    "anchor_scales=np.array([8,16,32])"
   ]
  },
  {
   "cell_type": "code",
   "execution_count": 55,
   "metadata": {},
   "outputs": [],
   "source": [
    "anchor_scales=np.expand_dims(anchor_scales,axis=(0,2))"
   ]
  },
  {
   "cell_type": "code",
   "execution_count": 56,
   "metadata": {},
   "outputs": [
    {
     "data": {
      "text/plain": [
       "(1, 3, 1)"
      ]
     },
     "execution_count": 56,
     "metadata": {},
     "output_type": "execute_result"
    }
   ],
   "source": [
    "anchor_scales.shape"
   ]
  },
  {
   "cell_type": "code",
   "execution_count": 57,
   "metadata": {},
   "outputs": [
    {
     "data": {
      "text/plain": [
       "array([[[ 4.,  8., 16.],\n",
       "        [ 8., 16., 32.],\n",
       "        [16., 32., 64.]]])"
      ]
     },
     "execution_count": 57,
     "metadata": {},
     "output_type": "execute_result"
    }
   ],
   "source": [
    "anchor_scales*ratios"
   ]
  },
  {
   "cell_type": "code",
   "execution_count": 6,
   "metadata": {},
   "outputs": [],
   "source": [
    "a = np.arange(0,16*2,16)\n",
    "b = np.arange(0,16*2,16)"
   ]
  },
  {
   "cell_type": "code",
   "execution_count": 8,
   "metadata": {},
   "outputs": [],
   "source": [
    "shift_x, shift_y = np.meshgrid(a,b)\n"
   ]
  },
  {
   "cell_type": "code",
   "execution_count": 14,
   "metadata": {},
   "outputs": [
    {
     "data": {
      "text/plain": [
       "array([ 0,  0, 16, 16])"
      ]
     },
     "execution_count": 14,
     "metadata": {},
     "output_type": "execute_result"
    }
   ],
   "source": [
    "shift_y.ravel()"
   ]
  },
  {
   "cell_type": "code",
   "execution_count": 21,
   "metadata": {},
   "outputs": [],
   "source": [
    "shift = np.stack((shift_y.ravel(), shift_x.ravel(),\n",
    "                      shift_y.ravel(), shift_x.ravel()), axis=1)"
   ]
  },
  {
   "cell_type": "code",
   "execution_count": 29,
   "metadata": {},
   "outputs": [
    {
     "data": {
      "text/plain": [
       "array([[ -37.254833,  -82.50967 ,   52.254833,   97.50967 ],\n",
       "       [ -56.      ,  -56.      ,   71.      ,   71.      ],\n",
       "       [ -82.50967 ,  -37.254833,   97.50967 ,   52.254833],\n",
       "       [ -82.50967 , -173.01933 ,   97.50967 ,  188.01933 ],\n",
       "       [-120.      , -120.      ,  135.      ,  135.      ],\n",
       "       [-173.01933 ,  -82.50967 ,  188.01933 ,   97.50967 ],\n",
       "       [-173.01933 , -354.03867 ,  188.01933 ,  369.03867 ],\n",
       "       [-248.      , -248.      ,  263.      ,  263.      ],\n",
       "       [-354.03867 , -173.01933 ,  369.03867 ,  188.01933 ]],\n",
       "      dtype=float32)"
      ]
     },
     "execution_count": 29,
     "metadata": {},
     "output_type": "execute_result"
    }
   ],
   "source": [
    "base_anchor"
   ]
  },
  {
   "cell_type": "code",
   "execution_count": 28,
   "metadata": {},
   "outputs": [
    {
     "data": {
      "text/plain": [
       "array([[[ -37.25483322,  -82.50966644,   52.25483322,   97.50966644],\n",
       "        [ -56.        ,  -56.        ,   71.        ,   71.        ],\n",
       "        [ -82.50966644,  -37.25483322,   97.50966644,   52.25483322],\n",
       "        [ -82.50966644, -173.01933289,   97.50966644,  188.01933289],\n",
       "        [-120.        , -120.        ,  135.        ,  135.        ],\n",
       "        [-173.01933289,  -82.50966644,  188.01933289,   97.50966644],\n",
       "        [-173.01933289, -354.03866577,  188.01933289,  369.03866577],\n",
       "        [-248.        , -248.        ,  263.        ,  263.        ],\n",
       "        [-354.03866577, -173.01933289,  369.03866577,  188.01933289]],\n",
       "\n",
       "       [[ -37.25483322,  -66.50966644,   52.25483322,  113.50966644],\n",
       "        [ -56.        ,  -40.        ,   71.        ,   87.        ],\n",
       "        [ -82.50966644,  -21.25483322,   97.50966644,   68.25483322],\n",
       "        [ -82.50966644, -157.01933289,   97.50966644,  204.01933289],\n",
       "        [-120.        , -104.        ,  135.        ,  151.        ],\n",
       "        [-173.01933289,  -66.50966644,  188.01933289,  113.50966644],\n",
       "        [-173.01933289, -338.03866577,  188.01933289,  385.03866577],\n",
       "        [-248.        , -232.        ,  263.        ,  279.        ],\n",
       "        [-354.03866577, -157.01933289,  369.03866577,  204.01933289]],\n",
       "\n",
       "       [[ -21.25483322,  -82.50966644,   68.25483322,   97.50966644],\n",
       "        [ -40.        ,  -56.        ,   87.        ,   71.        ],\n",
       "        [ -66.50966644,  -37.25483322,  113.50966644,   52.25483322],\n",
       "        [ -66.50966644, -173.01933289,  113.50966644,  188.01933289],\n",
       "        [-104.        , -120.        ,  151.        ,  135.        ],\n",
       "        [-157.01933289,  -82.50966644,  204.01933289,   97.50966644],\n",
       "        [-157.01933289, -354.03866577,  204.01933289,  369.03866577],\n",
       "        [-232.        , -248.        ,  279.        ,  263.        ],\n",
       "        [-338.03866577, -173.01933289,  385.03866577,  188.01933289]],\n",
       "\n",
       "       [[ -21.25483322,  -66.50966644,   68.25483322,  113.50966644],\n",
       "        [ -40.        ,  -40.        ,   87.        ,   87.        ],\n",
       "        [ -66.50966644,  -21.25483322,  113.50966644,   68.25483322],\n",
       "        [ -66.50966644, -157.01933289,  113.50966644,  204.01933289],\n",
       "        [-104.        , -104.        ,  151.        ,  151.        ],\n",
       "        [-157.01933289,  -66.50966644,  204.01933289,  113.50966644],\n",
       "        [-157.01933289, -338.03866577,  204.01933289,  385.03866577],\n",
       "        [-232.        , -232.        ,  279.        ,  279.        ],\n",
       "        [-338.03866577, -157.01933289,  385.03866577,  204.01933289]]])"
      ]
     },
     "execution_count": 28,
     "metadata": {},
     "output_type": "execute_result"
    }
   ],
   "source": [
    "base_anchor.reshape(1,9,4)+shift.reshape(4,1,4)"
   ]
  },
  {
   "cell_type": "code",
   "execution_count": null,
   "metadata": {},
   "outputs": [],
   "source": []
  }
 ],
 "metadata": {
  "kernelspec": {
   "display_name": "Python 3",
   "language": "python",
   "name": "python3"
  },
  "language_info": {
   "codemirror_mode": {
    "name": "ipython",
    "version": 3
   },
   "file_extension": ".py",
   "mimetype": "text/x-python",
   "name": "python",
   "nbconvert_exporter": "python",
   "pygments_lexer": "ipython3",
   "version": "3.8.8"
  }
 },
 "nbformat": 4,
 "nbformat_minor": 4
}
