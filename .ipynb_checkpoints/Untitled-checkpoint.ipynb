{
 "cells": [
  {
   "cell_type": "code",
   "execution_count": 1,
   "metadata": {},
   "outputs": [],
   "source": [
    "from model import Backbone,RegionProposalNetwork,GeneralizedRCNN,ROIHead\n",
    "from data.dataset import VOCDataset,Transform\n",
    "from torch.utils.data import DataLoader\n",
    "from model.utils.anchor import AnchorGenerator\n",
    "from model.utils.creator_tool import ProposalTargetCreator,AnchorTargetGenerator\n",
    "from torchvision import transforms\n",
    "import matplotlib\n",
    "import torch\n",
    "import torch.nn.functional as F\n",
    "import torch.optim as optim\n",
    "\n",
    "root=\"../VOCdevkit/VOC2007/\"\n",
    "# root = \"/home/ruifanxu/Desktop/ComputerVision/Faster_RCNN/VOCdevkit/VOC2007/\"\n",
    "trainData = VOCDataset(root,transform = Transform())\n",
    "loader = DataLoader(trainData,batch_size = 1)"
   ]
  },
  {
   "cell_type": "code",
   "execution_count": 2,
   "metadata": {},
   "outputs": [],
   "source": [
    "rcnn = GeneralizedRCNN.FasterRCNN_vgg16(num_classes=21)"
   ]
  },
  {
   "cell_type": "code",
   "execution_count": null,
   "metadata": {},
   "outputs": [],
   "source": [
    "model,classifier = Backbone.vggbackbone(True)\n",
    "rpnhead= RegionProposalNetwork.RPNHead(512,9)\n",
    "head = ROIHead.RoIHead(21,classifier,7,1/16)\n",
    "anGen = AnchorGenerator()\n",
    "anTargetGen = AnchorTargetGenerator()\n",
    "proposalTarget = ProposalTargetCreator()\n",
    "rpn = RegionProposalNetwork.RegionProposalNetwork(anGen,rpnhead)"
   ]
  },
  {
   "cell_type": "code",
   "execution_count": null,
   "metadata": {},
   "outputs": [],
   "source": [
    "model.backbone[-2].out_channels"
   ]
  },
  {
   "cell_type": "code",
   "execution_count": null,
   "metadata": {},
   "outputs": [],
   "source": [
    "def smooth_l1_loss(rpn_offset,offset,label):\n",
    "    in_weight = torch.zeros(offset.shape)\n",
    "    in_weight[(label>0).view(-1,1).expand_as(in_weight)]=1\n",
    "    differences = (offset-rpn_offset)*in_weight\n",
    "    abs_differences = differences.abs()\n",
    "    flag = (abs_differences<1).float()\n",
    "    y = flag*(abs_differences**2)+(1-flag)*(abs_differences-0.5)\n",
    "    return y.sum()/(label>=0).sum().float()"
   ]
  },
  {
   "cell_type": "code",
   "execution_count": null,
   "metadata": {},
   "outputs": [],
   "source": [
    "anGen.num_anchors_per_location()"
   ]
  },
  {
   "cell_type": "code",
   "execution_count": 4,
   "metadata": {},
   "outputs": [
    {
     "name": "stdout",
     "output_type": "stream",
     "text": [
      "anchors torch.Size([1, 16650, 4])\n",
      "True\n",
      "torch.Size([16650, 4])\n",
      "torch.Size([735, 4])\n",
      "pool shape torch.Size([735, 512, 7, 7])\n",
      "torch.Size([735, 25088])\n"
     ]
    }
   ],
   "source": [
    "for i,(img,target) in enumerate(loader):\n",
    "    result = rcnn(img)\n",
    "#     temp = model(img)\n",
    "    \n",
    "#     # after Region Proposal Network, calculate the rpn loss\n",
    "#     rpn_offset, rpn_score, rois,roi_indices,anchors=rpn(temp,img,1)\n",
    "#     offset,label = anTargetGen(target[\"boxes\"][0],anchors[0],img[0].shape[-2:])\n",
    "#     label = torch.from_numpy(label).long()\n",
    "#     offset = torch.from_numpy(offset)\n",
    "#     rpn_cls_loss = F.cross_entropy(rpn_score.view(-1,2),label,ignore_index=-1)\n",
    "#     rpn_offset_loss = smooth_l1_loss(rpn_offset.view(-1,4),offset,label)\n",
    "#     # ROI head loss.\n",
    "#     sample_roi, gt_roi_loc, gt_roi_label = proposalTarget(rois,target[\"boxes\"][0],target[\"labels\"][0])\n",
    "#     sample_roi_index= torch.zeros(len(sample_roi))\n",
    "#     roi_cls_loc,roi_score = head(temp,sample_roi,sample_roi_index)\n",
    "#     gt_roi_loc = torch.from_numpy(gt_roi_loc)\n",
    "#     roi_cls_loss = F.cross_entropy(roi_score,gt_roi_label)\n",
    "#     n_sample = gt_roi_loc.shape[0]\n",
    "#     roi_cls_loc = roi_cls_loc.view(n_sample,-1,4)\n",
    "#     roi_loc = roi_cls_loc[torch.arange(0, n_sample).long(),gt_roi_label]\n",
    "#     roi_cls_loss = smooth_l1_loss(roi_loc,gt_roi_loc,gt_roi_label)\n",
    "    break"
   ]
  },
  {
   "cell_type": "code",
   "execution_count": 7,
   "metadata": {},
   "outputs": [
    {
     "data": {
      "text/plain": [
       "torch.Size([735, 21])"
      ]
     },
     "execution_count": 7,
     "metadata": {},
     "output_type": "execute_result"
    }
   ],
   "source": [
    "result[1].shape"
   ]
  },
  {
   "cell_type": "code",
   "execution_count": null,
   "metadata": {},
   "outputs": [],
   "source": [
    "sample_roi_index"
   ]
  },
  {
   "cell_type": "code",
   "execution_count": null,
   "metadata": {},
   "outputs": [],
   "source": [
    "optimizer = optim.SGD(net.parameters(), lr=0.001, momentum=0.9)"
   ]
  },
  {
   "cell_type": "code",
   "execution_count": null,
   "metadata": {},
   "outputs": [],
   "source": [
    "dict(rpn.named_parameters()).items()"
   ]
  },
  {
   "cell_type": "code",
   "execution_count": null,
   "metadata": {},
   "outputs": [],
   "source": [
    "sample_roi.shape"
   ]
  },
  {
   "cell_type": "code",
   "execution_count": null,
   "metadata": {},
   "outputs": [],
   "source": [
    "import numpy as np\n",
    "np.where(anchors[0][:,1]>=anchors[0][:,3])"
   ]
  },
  {
   "cell_type": "code",
   "execution_count": null,
   "metadata": {},
   "outputs": [],
   "source": [
    "def smooth_l1_loss(rpn_offset,offset,label):\n",
    "    in_weight = torch.zeros(offset.shape)\n",
    "    in_weight[(label>0).view(-1,1).expand_as(in_weight)]=1\n",
    "    differences = (offset-rpn_offset)*in_weight\n",
    "    abs_differences = differences.abs()\n",
    "    flag = (abs_differences<1).float()\n",
    "    y = flag*(abs_differences**2)+(1-flag)*(abs_differences-0.5)\n",
    "    return y.sum()"
   ]
  },
  {
   "cell_type": "code",
   "execution_count": null,
   "metadata": {},
   "outputs": [],
   "source": [
    "temp = smooth_l1_loss(rpn_offset.view(-1,4),torch.from_numpy(offset),label)"
   ]
  },
  {
   "cell_type": "code",
   "execution_count": null,
   "metadata": {},
   "outputs": [],
   "source": [
    "temp"
   ]
  },
  {
   "cell_type": "code",
   "execution_count": null,
   "metadata": {},
   "outputs": [],
   "source": [
    "temp.isnan()"
   ]
  },
  {
   "cell_type": "code",
   "execution_count": null,
   "metadata": {},
   "outputs": [],
   "source": [
    "temp[[1271,6608,9550,13170],:]"
   ]
  },
  {
   "cell_type": "code",
   "execution_count": null,
   "metadata": {},
   "outputs": [],
   "source": [
    "torch.sum(temp[:,:])"
   ]
  },
  {
   "cell_type": "code",
   "execution_count": null,
   "metadata": {},
   "outputs": [],
   "source": [
    "rpn_offset.shape"
   ]
  },
  {
   "cell_type": "code",
   "execution_count": null,
   "metadata": {},
   "outputs": [],
   "source": [
    "np.where(label>=0)"
   ]
  },
  {
   "cell_type": "code",
   "execution_count": null,
   "metadata": {},
   "outputs": [],
   "source": [
    "temp = torch.zeros(offset.shape)\n",
    "temp[label>0]"
   ]
  },
  {
   "cell_type": "code",
   "execution_count": null,
   "metadata": {},
   "outputs": [],
   "source": [
    "torch.as_tensor([False,True]).float()"
   ]
  },
  {
   "cell_type": "code",
   "execution_count": null,
   "metadata": {},
   "outputs": [],
   "source": []
  }
 ],
 "metadata": {
  "kernelspec": {
   "display_name": "Python 3",
   "language": "python",
   "name": "python3"
  },
  "language_info": {
   "codemirror_mode": {
    "name": "ipython",
    "version": 3
   },
   "file_extension": ".py",
   "mimetype": "text/x-python",
   "name": "python",
   "nbconvert_exporter": "python",
   "pygments_lexer": "ipython3",
   "version": "3.7.6"
  }
 },
 "nbformat": 4,
 "nbformat_minor": 2
}
